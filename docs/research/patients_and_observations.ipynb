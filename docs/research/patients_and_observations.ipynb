{
 "cells": [
  {
   "cell_type": "code",
   "execution_count": 77,
   "id": "376aaa25-f2a0-4fcd-8247-564fb01822f1",
   "metadata": {},
   "outputs": [],
   "source": [
    "import aiohttp\n",
    "import asyncio\n",
    "import pandas as pd\n",
    "import csv\n",
    "from typing import Any, Dict, List, Tuple\n",
    "import os"
   ]
  },
  {
   "cell_type": "code",
   "execution_count": 78,
   "id": "0ab31bf3-342e-4e04-86c1-4329aa97b039",
   "metadata": {},
   "outputs": [],
   "source": [
    "async def extract(url: str) -> Dict[str, Any]:\n",
    "    async with aiohttp.ClientSession() as session:\n",
    "        async with session.get(url) as response:\n",
    "            response.raise_for_status()\n",
    "            return await response.json()\n",
    "\n",
    "def get_patients_url(zipcode: str) -> str:\n",
    "    return f\"https://hapi.fhir.org/baseR5/Patient?address-postalcode={zipcode}\"\n",
    "\n",
    "def get_observation_url(patient_id: str):\n",
    "    return f\"https://hapi.fhir.org/baseR5/Observation?subject=patient%2F{patient_id}\"\n",
    "\n",
    "def write_to_csv(filename: str, field_names: List[str], data: Dict[str, Any]) -> None:\n",
    "    # newline set to '' to handle situation described in https://stackoverflow.com/a/77161460\n",
    "    with open(filename, 'w', newline='') as csvfile:    \n",
    "        writer = csv.DictWriter(csvfile, fieldnames=field_names)\n",
    "        writer.writeheader()\n",
    "        for row in data:\n",
    "            writer.writerow(row)\n",
    "\n",
    "def create_folder_if_not_exists(folder_path):\n",
    "    if not os.path.exists(folder_path):\n",
    "        os.makedirs(folder_path)"
   ]
  },
  {
   "cell_type": "code",
   "execution_count": 103,
   "id": "1ec96ece-870a-4424-9de9-860da0b94c0c",
   "metadata": {},
   "outputs": [],
   "source": [
    "def patient_to_csv(patient: Dict[str, Any]) -> Tuple[bool, Dict[str, Any]]:\n",
    "    if \"resource\" not in patient: return (False, None)\n",
    "    resource = patient[\"resource\"]\n",
    "    if not (val := resource.get(\"id\", None)): return (False, None)\n",
    "    if not (val := resource.get(\"gender\", None)): return (False, None)\n",
    "    if not (val := resource.get(\"birthDate\", None)): return (False, None)\n",
    "    name = resource.get(\"name\", None)\n",
    "    if not name: return (False, None)\n",
    "    first_name = name[0].get(\"given\", None)\n",
    "    if not first_name or not first_name[0]: return (False, None)\n",
    "    return True, {\n",
    "        \"id\": resource[\"id\"],\n",
    "        \"first_name\": resource[\"name\"][0][\"given\"][0],\n",
    "        \"gender\": resource[\"gender\"],\n",
    "        \"birth_date\": resource[\"birthDate\"] \n",
    "    }\n",
    "\n",
    "async def generate_patients(zipcode: str) -> None:\n",
    "    raw_patients = await extract(get_patients_url(zipcode))\n",
    "    if \"entry\" not in raw_patients or not raw_patients[\"entry\"]:\n",
    "        print(\"No patients found\")\n",
    "        return\n",
    "    field_names = [\"id\",\"first_name\",\"gender\",\"birth_date\"]\n",
    "    data = []\n",
    "    for patient in raw_patients[\"entry\"]:\n",
    "        is_valid, record = patient_to_csv(patient)\n",
    "        if not is_valid:\n",
    "            print(f\"invalid patient: {patient}\")\n",
    "            continue\n",
    "        data.append(record)\n",
    "    if not data:\n",
    "        print(\"No valid patients found\")\n",
    "        return        \n",
    "    write_to_csv(f\"{zipcode}/patients.csv\", field_names, data)\n",
    "\n",
    "def observation_to_csv(observation: Dict[str, Any]) -> Tuple[bool, Dict[str, Any]]:\n",
    "    if \"resource\" not in observation: return (False, None)\n",
    "    resource = observation[\"resource\"]\n",
    "    if not (val := resource.get(\"id\", None)): return (False, None)\n",
    "    if not (val := resource.get(\"resourceType\", None)): return (False, None)\n",
    "    if not (val := resource.get(\"status\", None)): return (False, None)\n",
    "    return True, {\n",
    "        \"id\": resource[\"id\"],\n",
    "        \"resource_type\": resource[\"resourceType\"],\n",
    "        \"status\": resource[\"status\"] \n",
    "    }\n",
    "\n",
    "async def generate_observation(zipcode: str, patient_id: str) -> None:\n",
    "    raw_observation = await extract(get_observation_url(patient_id))\n",
    "    if \"entry\" not in raw_observation or not raw_observation[\"entry\"]:\n",
    "        print(\"No observations found\")\n",
    "        return\n",
    "    field_names = [\"id\",\"resource_type\",\"status\",\"patient_id\"]\n",
    "    entry = raw_observation[\"entry\"][0]\n",
    "    is_valid, record = observation_to_csv(entry)\n",
    "    if not is_valid:\n",
    "        print(f\"invalid observation: {observation}\")\n",
    "        return\n",
    "    record[\"patient_id\"] = patient_id\n",
    "    write_to_csv(f\"{zipcode}/observation-{patient_id}.csv\", field_names, [record])\n",
    "\n",
    "async def generate_observations(zipcode: str) -> None:\n",
    "    patients = []\n",
    "    rate_limit = 5\n",
    "    with open(f\"{zipcode}/patients.csv\", mode =\"r\")as file:\n",
    "        csvFile = csv.reader(file)\n",
    "        for patient in csvFile:\n",
    "            patients.append(patient[0])\n",
    "            \n",
    "    while patients:\n",
    "        tasks = []\n",
    "        for _ in range(min(rate_limit, len(patients))):\n",
    "            patient = patients.pop()\n",
    "            tasks.append(asyncio.create_task(generate_observation(zipcode, patient)))\n",
    "        await asyncio.gather(*tasks)\n",
    "\"\"\"\n",
    "    import asyncio\n",
    "\n",
    "async def some_async_function(i):\n",
    "    await asyncio.sleep(1)\n",
    "    print(f\"Task {i} done\")\n",
    "\n",
    "async def main():\n",
    "    tasks = []\n",
    "    for i in range(5):\n",
    "        tasks.append(asyncio.create_task(some_async_function(i)))\n",
    "\n",
    "    # Wait for all tasks to complete\n",
    "    await asyncio.gather(*tasks)\n",
    "\n",
    "\"\"\"\n",
    "\n",
    "async def generate_for_zipcode(zipcode: str = \"02718\") -> None:\n",
    "    create_folder_if_not_exists(zipcode)\n",
    "    await(generate_patients(zipcode))\n",
    "    await(generate_observations(zipcode))"
   ]
  },
  {
   "cell_type": "code",
   "execution_count": 104,
   "id": "f7ee68d1-7d1f-41c5-8a05-c320fe891367",
   "metadata": {},
   "outputs": [
    {
     "name": "stdout",
     "output_type": "stream",
     "text": [
      "No observations found\n",
      "No observations found\n",
      "No observations found\n",
      "No observations found\n",
      "No observations found\n",
      "No observations found\n",
      "No observations found\n",
      "No observations found\n",
      "No observations found\n",
      "No observations found\n",
      "No observations found\n",
      "No observations found\n",
      "No observations found\n",
      "No observations found\n",
      "No observations found\n",
      "No observations found\n"
     ]
    }
   ],
   "source": [
    "await generate_for_zipcode()"
   ]
  },
  {
   "cell_type": "code",
   "execution_count": null,
   "id": "28ac4e0a-6f31-4cd0-b98c-ea1378cd5852",
   "metadata": {},
   "outputs": [],
   "source": [
    "raw_observations = { patient_id: await extract(get_observation_url(patient_id)) for patient_id in patient_ids }\n",
    "raw_observations"
   ]
  },
  {
   "cell_type": "code",
   "execution_count": 74,
   "id": "b4dfe820-b803-4135-9bfd-efc6df710c36",
   "metadata": {},
   "outputs": [],
   "source": [
    "with open(\"observations.json\", \"w\") as outfile:\n",
    "    json.dump(raw_observations, outfile)"
   ]
  },
  {
   "cell_type": "code",
   "execution_count": 38,
   "id": "39edc5e5-466d-493a-85b2-a5bd74a9f9c0",
   "metadata": {},
   "outputs": [
    {
     "data": {
      "text/html": [
       "<div>\n",
       "<style scoped>\n",
       "    .dataframe tbody tr th:only-of-type {\n",
       "        vertical-align: middle;\n",
       "    }\n",
       "\n",
       "    .dataframe tbody tr th {\n",
       "        vertical-align: top;\n",
       "    }\n",
       "\n",
       "    .dataframe thead th {\n",
       "        text-align: right;\n",
       "    }\n",
       "</style>\n",
       "<table border=\"1\" class=\"dataframe\">\n",
       "  <thead>\n",
       "    <tr style=\"text-align: right;\">\n",
       "      <th></th>\n",
       "      <th>relation</th>\n",
       "      <th>url</th>\n",
       "    </tr>\n",
       "  </thead>\n",
       "  <tbody>\n",
       "    <tr>\n",
       "      <th>0</th>\n",
       "      <td>self</td>\n",
       "      <td>https://hapi.fhir.org/baseR5/Patient?address-p...</td>\n",
       "    </tr>\n",
       "  </tbody>\n",
       "</table>\n",
       "</div>"
      ],
      "text/plain": [
       "  relation                                                url\n",
       "0     self  https://hapi.fhir.org/baseR5/Patient?address-p..."
      ]
     },
     "execution_count": 38,
     "metadata": {},
     "output_type": "execute_result"
    }
   ],
   "source": [
    "newline\n",
    "#raw_patients = pd.json_normalize(parsed_data)\n",
    "#pd.json_normalize(parsed_data[\"link\"])"
   ]
  },
  {
   "cell_type": "code",
   "execution_count": 25,
   "id": "5a9ad186-3a41-4b44-bfeb-e415a6f9bd3f",
   "metadata": {},
   "outputs": [
    {
     "name": "stdout",
     "output_type": "stream",
     "text": [
      "<class 'pandas.core.frame.DataFrame'>\n",
      "RangeIndex: 1 entries, 0 to 0\n",
      "Data columns (total 7 columns):\n",
      " #   Column            Non-Null Count  Dtype \n",
      "---  ------            --------------  ----- \n",
      " 0   resourceType      1 non-null      object\n",
      " 1   id                1 non-null      object\n",
      " 2   type              1 non-null      object\n",
      " 3   total             1 non-null      int64 \n",
      " 4   link              1 non-null      object\n",
      " 5   entry             1 non-null      object\n",
      " 6   meta.lastUpdated  1 non-null      object\n",
      "dtypes: int64(1), object(6)\n",
      "memory usage: 188.0+ bytes\n"
     ]
    }
   ],
   "source": [
    "raw_data.info()"
   ]
  },
  {
   "cell_type": "code",
   "execution_count": 34,
   "id": "59f0b2b6-dffb-4746-8837-7491896faae3",
   "metadata": {},
   "outputs": [
    {
     "data": {
      "text/plain": [
       "list"
      ]
     },
     "execution_count": 34,
     "metadata": {},
     "output_type": "execute_result"
    }
   ],
   "source": [
    "type(raw_data.iloc[0, 5]) "
   ]
  },
  {
   "cell_type": "code",
   "execution_count": 51,
   "id": "ba35f229-e20a-4346-9729-6ff04ad4ddfa",
   "metadata": {},
   "outputs": [
    {
     "data": {
      "text/plain": [
       "['425',\n",
       " '1002',\n",
       " '1003',\n",
       " '1052',\n",
       " '1053',\n",
       " '1554',\n",
       " '1555',\n",
       " '4965',\n",
       " '751247',\n",
       " '751252',\n",
       " '109eee94-76b6-428d-bc08-8be8a58eb166',\n",
       " '758488',\n",
       " '758489',\n",
       " '758493',\n",
       " '759495',\n",
       " '762136']"
      ]
     },
     "execution_count": 51,
     "metadata": {},
     "output_type": "execute_result"
    }
   ],
   "source": [
    "\n",
    "ids\n"
   ]
  },
  {
   "cell_type": "code",
   "execution_count": null,
   "id": "f250d6f0-4699-4314-9766-3fbb56674644",
   "metadata": {},
   "outputs": [],
   "source": []
  }
 ],
 "metadata": {
  "kernelspec": {
   "display_name": "Python 3 (ipykernel)",
   "language": "python",
   "name": "python3"
  },
  "language_info": {
   "codemirror_mode": {
    "name": "ipython",
    "version": 3
   },
   "file_extension": ".py",
   "mimetype": "text/x-python",
   "name": "python",
   "nbconvert_exporter": "python",
   "pygments_lexer": "ipython3",
   "version": "3.12.7"
  }
 },
 "nbformat": 4,
 "nbformat_minor": 5
}
